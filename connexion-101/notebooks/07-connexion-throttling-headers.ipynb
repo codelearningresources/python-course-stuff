{
 "cells": [
  {
   "cell_type": "markdown",
   "metadata": {},
   "source": [
    "# Throttling headers\n",
    "\n",
    "Service management is an essential component of a stable API Ecosystem.\n",
    "\n",
    "Basic compontents for service managements are:\n",
    "\n",
    "- telling your peers when you are not operational, and explicit\n",
    "  how long it will take to be up and running again;\n",
    "  \n",
    "- explicitly telling your peers if they are over quota and\n",
    "  prevent overquota via throttling headers.\n",
    "  \n",
    "\n",
    "While it could be annoying to explicitly state that every response\n",
    "should contain throttling headers, you can use yaml anchors for that!\n",
    "\n",
    "```\n",
    "x-commons:\n",
    "  throttling-headers: &throttling-headers\n",
    "    X-RateLimit-Limit:\n",
    "      $ref: ..\n",
    "    X-RateLimit-Remaining:\n",
    "      $ref: ..\n",
    "    X-RateLimit-Reset:\n",
    "      $ref: ..\n",
    "\n",
    "```\n"
   ]
  },
  {
   "cell_type": "markdown",
   "metadata": {},
   "source": [
    "## Returning throttling headers\n",
    "\n",
    "Now we can use the anchor in our `get /echo responses`\n",
    "\n",
    "```\n",
    "paths:\n",
    "  /status\n",
    "    get:\n",
    "      ...\n",
    "      operationId: api.get_status\n",
    "      responses:\n",
    "        '200':\n",
    "          headers:\n",
    "            <<: *throttling_headers\n",
    "          ...\n",
    "```\n",
    "\n",
    "\n",
    "### Exercise: add throttling headers\n",
    "\n",
    "Modify the  [ex-07-01-throttling.yaml](/edit/notebooks/oas3/ex-07-01-throttling.yaml) spec so that:\n",
    "\n",
    "- `get /echo responses` returns the throtting headers in case of `200`;\n",
    "- ensure that in case of over-quota, a `429` response is returned"
   ]
  },
  {
   "cell_type": "code",
   "execution_count": null,
   "metadata": {},
   "outputs": [],
   "source": [
    "### Exercise: throttle requests using the following class\n",
    "\n",
    "from  oas3.throttling_quota import ThrottlingQuota\n",
    "\n",
    "\n",
    "quotas = ThrottlingQuota(ttl=30, quota=10)\n",
    "\n",
    "for i in range(12):\n",
    "    ret = quotas.add(user=f'user1')\n",
    "    print(ret)"
   ]
  },
  {
   "cell_type": "markdown",
   "metadata": {},
   "source": [
    "Modify [api.py:get_echo](/edit/notebooks/oas3/api.py) such that:\n",
    "\n",
    "- every authenticated user get its quota;\n",
    "- if quota is exceeded, `429` is returned;\n",
    "- on every request, the throttling infos are returned:\n",
    "\n",
    "  - x-ratelimit-limit: quota\n",
    "  - x-ratelimit-reset: expires\n",
    "  - x-ratelimit-remaining: quota - count\n",
    "  "
   ]
  },
  {
   "cell_type": "markdown",
   "metadata": {},
   "source": [
    "Now  [run the spec in a terminal](/terminals/1) using\n",
    "\n",
    "```\n",
    "cd /code/notebooks/oas3/\n",
    "connexion run /code/notebooks/oas3/ex-03-02-path.yaml\n",
    "```\n",
    "\n",
    "play a bit with the [Swagger UI](https://TODO)\n",
    "\n",
    "and try making a request!\n"
   ]
  },
  {
   "cell_type": "code",
   "execution_count": null,
   "metadata": {},
   "outputs": [],
   "source": [
    "!curl http://localhost:5000/datetime/v1/status -kv"
   ]
  },
  {
   "cell_type": "markdown",
   "metadata": {},
   "source": [
    "### Returning errors.\n",
    "\n",
    "Our api.get_status implementation always returns `200 OK`, but in the real world APIs could\n",
    "return different kind of errors.\n",
    "\n",
    "An interoperable API should:\n",
    "\n",
    "- fail fast, avoiding that application errors result in stuck connections;\n",
    "- implement a clean error semantic.\n",
    "\n",
    "In our Service Management framework we expect that:\n",
    "\n",
    "- if the Service is unavailable, we must return `503 Service Unavailable` http status\n",
    "- we must return the `Retry-After` header specifying the number of seconds\n",
    "  when to retry.\n",
    "\n",
    "TODO: ADD CIRCUIT_BREAKER IMAGE\n",
    "\n",
    "To implement this we must:\n",
    "\n",
    "1. add the returned headers in the OAS3 interface;\n",
    "2. pass the headers to the flask Response\n"
   ]
  },
  {
   "cell_type": "code",
   "execution_count": null,
   "metadata": {},
   "outputs": [],
   "source": [
    "from random import randint\n",
    "\n",
    "\n",
    "def get_status():\n",
    "    p = randint(1, 5)\n",
    "    if p == 5:\n",
    "        return problem(\n",
    "            status=503,\n",
    "            title=\"Service Temporarily Unavailable\",\n",
    "            detail=\"Retry after the number of seconds specified in the the Retry-After header.\",\n",
    "            headers={'Retry-After': str(p)}\n",
    "        )\n",
    "    return problem(\n",
    "        status=200,\n",
    "        title=\"OK\",\n",
    "        detail=\"So far so good.\"\n",
    "    )"
   ]
  }
 ],
 "metadata": {
  "kernelspec": {
   "display_name": "Python 3",
   "language": "python",
   "name": "python3"
  },
  "language_info": {
   "codemirror_mode": {
    "name": "ipython",
    "version": 3
   },
   "file_extension": ".py",
   "mimetype": "text/x-python",
   "name": "python",
   "nbconvert_exporter": "python",
   "pygments_lexer": "ipython3",
   "version": "3.6.6"
  }
 },
 "nbformat": 4,
 "nbformat_minor": 2
}
