{
 "cells": [
  {
   "cell_type": "markdown",
   "metadata": {},
   "source": [
    "# OpenAPI & Modeling\n",
    "\n",
    "## OpenAPI\n",
    "\n",
    "OpenAPI is a specification language for REST APIs that allows to communicate:\n",
    "\n",
    "- technical specifications \n",
    "\n",
    "- metadata\n",
    "\n",
    "- docs & references"
   ]
  },
  {
   "cell_type": "markdown",
   "metadata": {},
   "source": [
    "## OpenAPI Foundation\n",
    "\n",
    "The OpenAPI Foundation is an initiative under the Linux Foundation, \n",
    "participated by government & companies  (gov.uk, Microsoft, Google, Oracle, IBM, ..):\n",
    "\n",
    "- Driver for API adoption\n",
    "\n",
    "- Evolution of Swagger 2.0\n",
    "\n",
    "- Lightweight format: YAML\n",
    "\n",
    "- Generates docs & code via tools (swagger-editor, apicur.io)\n",
    "\n",
    "- Allows reusable components via hyperlink (eg. $ref)\n",
    "\n",
    "Shortly, it's.. **WSDL for  REST APIs**"
   ]
  },
  {
   "cell_type": "code",
   "execution_count": null,
   "metadata": {},
   "outputs": [],
   "source": [
    "remote_yaml = 'https://raw.githubusercontent.com/teamdigitale/api-starter-kit/master/openapi/simple.yaml.src'\n",
    "render_markdown(f'''\n",
    "## OpenAPI Editor\n",
    "\n",
    "Swagger editor is a simple webapp for editing OpenAPI 3 language specs.\n",
    "\n",
    "\n",
    "Every OAS3 document begins with\n",
    "\n",
    "\n",
    "```\n",
    "openapi: 3.0.0\n",
    "```\n",
    "\n",
    "\n",
    "[Swagger Editor Online]({oas_editor_url(remote_yaml)})\n",
    "\n",
    "''')"
   ]
  },
  {
   "cell_type": "markdown",
   "metadata": {},
   "source": [
    "## OpenAPI Metadata\n",
    "\n",
    "In OAS3 we should first describe api metadata, to clarify:\n",
    "\n",
    "- API goals, audience and context;\n",
    "- Terms of service;\n",
    "- Versioning.\n",
    "\n",
    "Here's a simple OAS3 metadata part, contained in the `info` section.\n"
   ]
  },
  {
   "cell_type": "markdown",
   "metadata": {},
   "source": [
    "```\n",
    "openapi: 3.0.0\n",
    "info:\n",
    "  version: \"1.0.0\"\n",
    "  title: |-\n",
    "    Write a short, clear name of your service.\n",
    "  description: |\n",
    "    This field may contain the markdown documentation of the api,\n",
    "    including references to other docs and examples.\n",
    "\n",
    "  # Legal references and terms of services.\n",
    "  termsOfService: 'http://swagger.io/terms/'\n",
    "  contact:\n",
    "    email: robipolli@gmail.com\n",
    "    name: Roberto Polli\n",
    "    url: https://twitter.com/ioggstream\n",
    "  license:\n",
    "    name: Apache 2.0\n",
    "    url: 'http://www.apache.org/licenses/LICENSE-2.0.html'\n",
    "```"
   ]
  },
  {
   "cell_type": "code",
   "execution_count": null,
   "metadata": {},
   "outputs": [],
   "source": [
    "render_markdown(f'''\n",
    "## OpenAPI Metadata exercise\n",
    "\n",
    "1- open [this incomplete OAS3 spec](/edit/notebooks/oas3/ex-01-info.yaml).\n",
    "\n",
    "2- copy its content in the [Swagger Editor Online]({oas_editor_url('')}) fixing all errors and adding the missing informations.\n",
    "\n",
    "3- describe the first API we're going to implement: a service which returns the current\n",
    "   timestamp in RFC5454 UTC (eg. `2019-01-01T00:00:00Z`).\n",
    "    \n",
    "4- provide contact informations and terms of services. Feel free to add as many details as you want.\n",
    "\n",
    "''')"
   ]
  },
  {
   "cell_type": "code",
   "execution_count": null,
   "metadata": {},
   "outputs": [],
   "source": [
    "### Basic fields\n",
    "### Terms of Services"
   ]
  },
  {
   "cell_type": "markdown",
   "metadata": {},
   "source": [
    "### Custom fields\n",
    "\n",
    "In Italy we're experimenting with some custom fields to help catalogs and metadata\n",
    "\n",
    "**x-summary** is an one-liner description for catalog purposes. The new OAS 3.1 standardizes it as **summary** \n",
    "\n",
    "**x-lifecycle** can be used to communicate publishing and retiring informations\n",
    "\n",
    "```\n",
    "  x-lifecycle:\n",
    "    published: 1970-01-01\n",
    "    deprecated: 2050-01-01\n",
    "    retired: 2050-06-01\n",
    "    maturity: published\n",
    "\n",
    "```\n",
    "\n",
    "**x-api-id** you may want to assign a time-invariant UUID to your API, so that you can change its `title` \n",
    "\n",
    "```\n",
    "x-api-id: 00000000-0000-0000-0000-000000000000\n",
    "```\n",
    "\n",
    "**x-gdpr** with a list of roles\n",
    "\n",
    "**x-geodata** add local references in a machine readable format"
   ]
  },
  {
   "cell_type": "code",
   "execution_count": null,
   "metadata": {},
   "outputs": [],
   "source": [
    "render_markdown(f'''\n",
    "## OpenAPI Metadata exercise -2\n",
    "\n",
    "1- open [the previous OAS3 spec](/edit/notebooks/oas3/ex-01-info.yaml).\n",
    "\n",
    "2- copy its content in the [Swagger Editor Online]({oas_editor_url('')}).\n",
    "\n",
    "3- provide further informations via custom fields: if you think of any interesting \n",
    "   label, define them and comment properly using # \n",
    "\n",
    "''')"
   ]
  },
  {
   "cell_type": "markdown",
   "metadata": {},
   "source": [
    "## Serving our spec\n",
    "\n",
    "We can now serve our (empty) API with the connexion framework. \n",
    "`connexion` is based on flask. \n",
    "Let's ensure it's installed\n",
    "\n"
   ]
  },
  {
   "cell_type": "code",
   "execution_count": null,
   "metadata": {},
   "outputs": [],
   "source": [
    "!pip install connexion[swagger-ui] connexion\n"
   ]
  },
  {
   "cell_type": "code",
   "execution_count": null,
   "metadata": {},
   "outputs": [],
   "source": [
    "!connexion  --help\n"
   ]
  },
  {
   "cell_type": "markdown",
   "metadata": {},
   "source": [
    "### Run connexion\n",
    "\n",
    "In a [new terminal](/terminals/1) run `connexion` to serve the spec\n",
    "\n",
    "$ connexion run oas3/ex-01-info-ok.yaml\n",
    "\n",
    "Then open the [documentation URL](http://192.168.1.115:5000/ui) and check the outcome!\n"
   ]
  },
  {
   "cell_type": "code",
   "execution_count": null,
   "metadata": {},
   "outputs": [],
   "source": [
    "# A request on a generic PATH on the server returns a \n",
    "# nicely formatted and explicative error.\n",
    "# Remember that we haven't already defined an operation.\n",
    "!curl http://0.0.0.0:5000 -kv"
   ]
  },
  {
   "cell_type": "code",
   "execution_count": null,
   "metadata": {},
   "outputs": [],
   "source": []
  },
  {
   "cell_type": "code",
   "execution_count": null,
   "metadata": {},
   "outputs": [],
   "source": []
  }
 ],
 "metadata": {
  "kernelspec": {
   "display_name": "Python 3",
   "language": "python",
   "name": "python3"
  },
  "language_info": {
   "codemirror_mode": {
    "name": "ipython",
    "version": 3
   },
   "file_extension": ".py",
   "mimetype": "text/x-python",
   "name": "python",
   "nbconvert_exporter": "python",
   "pygments_lexer": "ipython3",
   "version": "3.6.6"
  }
 },
 "nbformat": 4,
 "nbformat_minor": 2
}
