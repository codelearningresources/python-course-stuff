{
 "cells": [
  {
   "cell_type": "markdown",
   "metadata": {},
   "source": [
    "# OpenAPI & Modeling\n",
    "\n",
    "## OpenAPI\n",
    "\n",
    "OpenAPI is a specification language for REST APIs that allows to communicate:\n",
    "\n",
    "- technical specifications \n",
    "\n",
    "- metadata\n",
    "\n",
    "- docs & references"
   ]
  },
  {
   "cell_type": "markdown",
   "metadata": {},
   "source": [
    "## OpenAPI Foundation\n",
    "\n",
    "The OpenAPI Foundation is an initiative under the Linux Foundation, \n",
    "participated by government & companies  (gov.uk, Microsoft, Google, Oracle, IBM, ..):\n",
    "\n",
    "- Driver for API adoption\n",
    "\n",
    "- Evolution of Swagger 2.0\n",
    "\n",
    "- Lightweight format: YAML\n",
    "\n",
    "- Generates docs & code via tools (swagger-editor, apicur.io)\n",
    "\n",
    "- Allows reusable components via hyperlink (eg. $ref)\n",
    "\n",
    "Shortly, it's.. **WSDL for  REST APIs**"
   ]
  },
  {
   "cell_type": "code",
   "execution_count": 1,
   "metadata": {
    "scrolled": true
   },
   "outputs": [
    {
     "data": {
      "text/markdown": [
       "\n",
       "## OpenAPI Editor\n",
       "\n",
       "Swagger editor is a simple webapp for editing OpenAPI 3 language specs.\n",
       "\n",
       "\n",
       "Every OAS3 document begins with\n",
       "\n",
       "\n",
       "```\n",
       "openapi: 3.0.0\n",
       "```\n",
       "\n",
       "\n",
       "[Swagger Editor Online](http://192.168.1.115:8080/?url=https://raw.githubusercontent.com/teamdigitale/api-starter-kit/master/openapi/simple.yaml.src)\n",
       "\n"
      ],
      "text/plain": [
       "<IPython.core.display.Markdown object>"
      ]
     },
     "metadata": {},
     "output_type": "display_data"
    }
   ],
   "source": [
    "remote_yaml = 'https://raw.githubusercontent.com/teamdigitale/api-starter-kit/master/openapi/simple.yaml.src'\n",
    "render_markdown(f'''\n",
    "## OpenAPI Editor\n",
    "\n",
    "Swagger editor is a simple webapp for editing OpenAPI 3 language specs.\n",
    "\n",
    "\n",
    "Every OAS3 document begins with\n",
    "\n",
    "\n",
    "```\n",
    "openapi: 3.0.0\n",
    "```\n",
    "\n",
    "\n",
    "[Swagger Editor Online]({oas_editor_url(remote_yaml)})\n",
    "\n",
    "''')"
   ]
  },
  {
   "cell_type": "markdown",
   "metadata": {},
   "source": [
    "## OpenAPI Metadata\n",
    "\n",
    "In OAS3 we should first describe api metadata, to clarify:\n",
    "\n",
    "- API goals, audience and context;\n",
    "- Terms of service;\n",
    "- Versioning.\n",
    "\n",
    "Here's a simple OAS3 metadata part, contained in the `info` section.\n"
   ]
  },
  {
   "cell_type": "markdown",
   "metadata": {},
   "source": [
    "```\n",
    "openapi: 3.0.0\n",
    "info:\n",
    "  version: \"1.0.0\"\n",
    "  title: |-\n",
    "    Write a short, clear name of your service.\n",
    "  description: |\n",
    "    This field may contain the markdown documentation of the api,\n",
    "    including references to other docs and examples.\n",
    "\n",
    "  # Legal references and terms of services.\n",
    "  termsOfService: 'http://swagger.io/terms/'\n",
    "  contact:\n",
    "    email: robipolli@gmail.com\n",
    "    name: Roberto Polli\n",
    "    url: https://twitter.com/ioggstream\n",
    "  license:\n",
    "    name: Apache 2.0\n",
    "    url: 'http://www.apache.org/licenses/LICENSE-2.0.html'\n",
    "```"
   ]
  },
  {
   "cell_type": "code",
   "execution_count": 2,
   "metadata": {},
   "outputs": [
    {
     "data": {
      "text/markdown": [
       "\n",
       "## OpenAPI Metadata exercise\n",
       "\n",
       "1- open [this incomplete OAS3 spec](/edit/notebooks/oas3/ex-01-info.yaml).\n",
       "\n",
       "2- copy its content in the [Swagger Editor Online](http://192.168.1.115:8080/?url=) fixing all errors and adding the missing informations.\n",
       "\n",
       "3- describe the first API we're going to implement: a service which returns the current\n",
       "   timestamp in RFC5454 UTC (eg. `2019-01-01T00:00:00Z`).\n",
       "    \n",
       "4- provide contact informations and terms of services. Feel free to add as many details as you want.\n",
       "\n"
      ],
      "text/plain": [
       "<IPython.core.display.Markdown object>"
      ]
     },
     "metadata": {},
     "output_type": "display_data"
    }
   ],
   "source": [
    "render_markdown(f'''\n",
    "## OpenAPI Metadata exercise\n",
    "\n",
    "1- open [this incomplete OAS3 spec](/edit/notebooks/oas3/ex-01-info.yaml).\n",
    "\n",
    "2- copy its content in the [Swagger Editor Online]({oas_editor_url('')}) fixing all errors and adding the missing informations.\n",
    "\n",
    "3- describe the first API we're going to implement: a service which returns the current\n",
    "   timestamp in RFC5454 UTC (eg. `2019-01-01T00:00:00Z`).\n",
    "    \n",
    "4- provide contact informations and terms of services. Feel free to add as many details as you want.\n",
    "\n",
    "''')"
   ]
  },
  {
   "cell_type": "code",
   "execution_count": 3,
   "metadata": {},
   "outputs": [],
   "source": [
    "### Basic fields\n",
    "### Terms of Services"
   ]
  },
  {
   "cell_type": "markdown",
   "metadata": {},
   "source": [
    "### Custom fields\n",
    "\n",
    "In Italy we're experimenting with some custom fields to help catalogs and metadata\n",
    "\n",
    "**x-summary** is an one-liner description for catalog purposes. The new OAS 3.1 standardizes it as **summary** \n",
    "\n",
    "**x-lifecycle** can be used to communicate publishing and retiring informations\n",
    "\n",
    "```\n",
    "  x-lifecycle:\n",
    "    published: 1970-01-01\n",
    "    deprecated: 2050-01-01\n",
    "    retired: 2050-06-01\n",
    "    maturity: published\n",
    "\n",
    "```\n",
    "\n",
    "**x-api-id** you may want to assign a time-invariant UUID to your API, so that you can change its `title` \n",
    "\n",
    "```\n",
    "x-api-id: 00000000-0000-0000-0000-000000000000\n",
    "```\n",
    "\n",
    "**x-gdpr** with a list of roles\n",
    "\n",
    "**x-geodata** add local references in a machine readable format"
   ]
  },
  {
   "cell_type": "code",
   "execution_count": 4,
   "metadata": {},
   "outputs": [
    {
     "data": {
      "text/markdown": [
       "\n",
       "## OpenAPI Metadata exercise -2\n",
       "\n",
       "1- open [the previous OAS3 spec](/edit/notebooks/oas3/ex-01-info.yaml).\n",
       "\n",
       "2- copy its content in the [Swagger Editor Online](http://192.168.1.115:8080/?url=).\n",
       "\n",
       "3- provide further informations via custom fields: if you think of any interesting \n",
       "   label, define them and comment properly using # \n",
       "\n"
      ],
      "text/plain": [
       "<IPython.core.display.Markdown object>"
      ]
     },
     "metadata": {},
     "output_type": "display_data"
    }
   ],
   "source": [
    "render_markdown(f'''\n",
    "## OpenAPI Metadata exercise -2\n",
    "\n",
    "1- open [the previous OAS3 spec](/edit/notebooks/oas3/ex-01-info.yaml).\n",
    "\n",
    "2- copy its content in the [Swagger Editor Online]({oas_editor_url('')}).\n",
    "\n",
    "3- provide further informations via custom fields: if you think of any interesting \n",
    "   label, define them and comment properly using # \n",
    "\n",
    "''')"
   ]
  },
  {
   "cell_type": "markdown",
   "metadata": {},
   "source": [
    "## Serving our spec\n",
    "\n",
    "We can now serve our (empty) API with the connexion framework. \n",
    "`connexion` is based on flask. \n",
    "Let's ensure it's installed\n",
    "\n"
   ]
  },
  {
   "cell_type": "code",
   "execution_count": 5,
   "metadata": {},
   "outputs": [
    {
     "name": "stdout",
     "output_type": "stream",
     "text": [
      "Collecting connexion[swagger-ui]\n",
      "\u001b[?25l  Downloading https://files.pythonhosted.org/packages/13/07/6a67c7944e6a9aa904ea06fdab615784a2c8527c3e677adf7bd8eb3fe80c/connexion-2.2.0-py2.py3-none-any.whl (1.0MB)\n",
      "\u001b[K     |████████████████████████████████| 1.0MB 895kB/s eta 0:00:01\n",
      "\u001b[?25hCollecting flask>=0.10.1 (from connexion[swagger-ui])\n",
      "\u001b[?25l  Downloading https://files.pythonhosted.org/packages/9a/74/670ae9737d14114753b8c8fdf2e8bd212a05d3b361ab15b44937dfd40985/Flask-1.0.3-py2.py3-none-any.whl (92kB)\n",
      "\u001b[K     |████████████████████████████████| 92kB 7.5MB/s  eta 0:00:01\n",
      "\u001b[?25hCollecting jsonschema<3.0.0,>=2.5.1 (from connexion[swagger-ui])\n",
      "  Downloading https://files.pythonhosted.org/packages/77/de/47e35a97b2b05c2fadbec67d44cfcdcd09b8086951b331d82de90d2912da/jsonschema-2.6.0-py2.py3-none-any.whl\n",
      "Collecting openapi-spec-validator>=0.2.4 (from connexion[swagger-ui])\n",
      "  Downloading https://files.pythonhosted.org/packages/34/98/6bf2cbbc6633768f0a23baefa8e1c7be4bf4aeb800d3ee82fd0ccbb2dc7d/openapi_spec_validator-0.2.7-py3-none-any.whl\n",
      "Requirement already satisfied: six>=1.9 in /usr/local/lib/python3.6/site-packages (from connexion[swagger-ui]) (1.12.0)\n",
      "Requirement already satisfied: requests>=2.9.1 in /usr/local/lib/python3.6/site-packages (from connexion[swagger-ui]) (2.22.0)\n",
      "Collecting clickclick>=1.2 (from connexion[swagger-ui])\n",
      "  Downloading https://files.pythonhosted.org/packages/b6/51/2b04f7a56dcbacc0e3a7cf726e1d88d28866bf488a7a0668582306e1e643/clickclick-1.2.2-py2.py3-none-any.whl\n",
      "Collecting inflection>=0.3.1 (from connexion[swagger-ui])\n",
      "  Downloading https://files.pythonhosted.org/packages/d5/35/a6eb45b4e2356fe688b21570864d4aa0d0a880ce387defe9c589112077f8/inflection-0.3.1.tar.gz\n",
      "Requirement already satisfied: PyYAML>=3.13 in /usr/local/lib/python3.6/site-packages (from connexion[swagger-ui]) (5.1.1)\n",
      "Collecting swagger-ui-bundle>=0.0.2; extra == \"swagger-ui\" (from connexion[swagger-ui])\n",
      "\u001b[?25l  Downloading https://files.pythonhosted.org/packages/0e/bb/d00f72e512784af20e368d2ecd5868c51a5aa3688d26ace5f4391651a3ce/swagger_ui_bundle-0.0.3-py3-none-any.whl (3.4MB)\n",
      "\u001b[K     |████████████████████████████████| 3.4MB 8.2MB/s eta 0:00:01\n",
      "\u001b[?25hCollecting itsdangerous>=0.24 (from flask>=0.10.1->connexion[swagger-ui])\n",
      "  Downloading https://files.pythonhosted.org/packages/76/ae/44b03b253d6fade317f32c24d100b3b35c2239807046a4c953c7b89fa49e/itsdangerous-1.1.0-py2.py3-none-any.whl\n",
      "Collecting Werkzeug>=0.14 (from flask>=0.10.1->connexion[swagger-ui])\n",
      "\u001b[?25l  Downloading https://files.pythonhosted.org/packages/9f/57/92a497e38161ce40606c27a86759c6b92dd34fcdb33f64171ec559257c02/Werkzeug-0.15.4-py2.py3-none-any.whl (327kB)\n",
      "\u001b[K     |████████████████████████████████| 327kB 6.8MB/s eta 0:00:01\n",
      "\u001b[?25hCollecting click>=5.1 (from flask>=0.10.1->connexion[swagger-ui])\n",
      "\u001b[?25l  Downloading https://files.pythonhosted.org/packages/fa/37/45185cb5abbc30d7257104c434fe0b07e5a195a6847506c074527aa599ec/Click-7.0-py2.py3-none-any.whl (81kB)\n",
      "\u001b[K     |████████████████████████████████| 81kB 7.1MB/s  eta 0:00:01\n",
      "\u001b[?25hRequirement already satisfied: Jinja2>=2.10 in /usr/local/lib/python3.6/site-packages (from flask>=0.10.1->connexion[swagger-ui]) (2.10.1)\n",
      "Requirement already satisfied: idna<2.9,>=2.5 in /usr/local/lib/python3.6/site-packages (from requests>=2.9.1->connexion[swagger-ui]) (2.8)\n",
      "Requirement already satisfied: certifi>=2017.4.17 in /usr/local/lib/python3.6/site-packages (from requests>=2.9.1->connexion[swagger-ui]) (2019.3.9)\n",
      "Requirement already satisfied: urllib3!=1.25.0,!=1.25.1,<1.26,>=1.21.1 in /usr/local/lib/python3.6/site-packages (from requests>=2.9.1->connexion[swagger-ui]) (1.25.3)\n",
      "Requirement already satisfied: chardet<3.1.0,>=3.0.2 in /usr/local/lib/python3.6/site-packages (from requests>=2.9.1->connexion[swagger-ui]) (3.0.4)\n",
      "Requirement already satisfied: MarkupSafe>=0.23 in /usr/local/lib/python3.6/site-packages (from Jinja2>=2.10->flask>=0.10.1->connexion[swagger-ui]) (1.1.1)\n",
      "Building wheels for collected packages: inflection\n",
      "  Building wheel for inflection (setup.py) ... \u001b[?25ldone\n",
      "\u001b[?25h  Stored in directory: /root/.cache/pip/wheels/9f/5a/d3/6fc3bf6516d2a3eb7e18f9f28b472110b59325f3f258fe9211\n",
      "Successfully built inflection\n",
      "Installing collected packages: itsdangerous, Werkzeug, click, flask, jsonschema, openapi-spec-validator, clickclick, inflection, swagger-ui-bundle, connexion\n",
      "  Found existing installation: jsonschema 3.0.1\n",
      "    Uninstalling jsonschema-3.0.1:\n",
      "      Successfully uninstalled jsonschema-3.0.1\n",
      "Successfully installed Werkzeug-0.15.4 click-7.0 clickclick-1.2.2 connexion-2.2.0 flask-1.0.3 inflection-0.3.1 itsdangerous-1.1.0 jsonschema-2.6.0 openapi-spec-validator-0.2.7 swagger-ui-bundle-0.0.3\n"
     ]
    }
   ],
   "source": [
    "!pip install connexion[swagger-ui] connexion\n"
   ]
  },
  {
   "cell_type": "code",
   "execution_count": 6,
   "metadata": {},
   "outputs": [
    {
     "name": "stdout",
     "output_type": "stream",
     "text": [
      "Usage: connexion [OPTIONS] COMMAND [ARGS]...\r\n",
      "\r\n",
      "Options:\r\n",
      "  -V, --version  Print the current version number and exit.\r\n",
      "  -h, --help     Show this message and exit.\r\n",
      "\r\n",
      "Commands:\r\n",
      "  run  Runs a server compliant with a OpenAPI/Swagger 2.0 Specification...\r\n"
     ]
    }
   ],
   "source": [
    "!connexion  --help\n"
   ]
  },
  {
   "cell_type": "markdown",
   "metadata": {},
   "source": [
    "### Run connexion\n",
    "\n",
    "In a [new terminal](/terminals/1) run `connexion` to serve the spec\n",
    "\n",
    "$ connexion run oas3/ex-01-info-ok.yaml\n",
    "\n",
    "Then open the [documentation URL](http://192.168.1.115:5000/ui) and check the outcome!\n"
   ]
  },
  {
   "cell_type": "code",
   "execution_count": 9,
   "metadata": {},
   "outputs": [
    {
     "name": "stdout",
     "output_type": "stream",
     "text": [
      "* Rebuilt URL to: http://0.0.0.0:5000/\r\n",
      "*   Trying 0.0.0.0...\r\n",
      "* TCP_NODELAY set\r\n",
      "* Connected to 0.0.0.0 (127.0.0.1) port 5000 (#0)\r\n",
      "> GET / HTTP/1.1\r",
      "\r\n",
      "> Host: 0.0.0.0:5000\r",
      "\r\n",
      "> User-Agent: curl/7.52.1\r",
      "\r\n",
      "> Accept: */*\r",
      "\r\n",
      "> \r",
      "\r\n",
      "* HTTP 1.0, assume close after body\r\n",
      "< HTTP/1.0 404 NOT FOUND\r",
      "\r\n",
      "< Content-Type: application/problem+json\r",
      "\r\n",
      "< Content-Length: 205\r",
      "\r\n",
      "< Server: Werkzeug/0.15.4 Python/3.6.6\r",
      "\r\n",
      "< Date: Tue, 11 Jun 2019 22:03:07 GMT\r",
      "\r\n",
      "< \r",
      "\r\n",
      "{\r\n",
      "  \"detail\": \"The requested URL was not found on the server. If you entered the URL manually please check your spelling and try again.\",\r\n",
      "  \"status\": 404,\r\n",
      "  \"title\": \"Not Found\",\r\n",
      "  \"type\": \"about:blank\"\r\n",
      "}\r\n",
      "* Curl_http_done: called premature == 0\r\n",
      "* Closing connection 0\r\n"
     ]
    }
   ],
   "source": [
    "# A request on a generic PATH on the server returns a \n",
    "# nicely formatted and explicative error.\n",
    "# Remember that we haven't already defined an operation.\n",
    "!curl http://0.0.0.0:5000 -kv"
   ]
  },
  {
   "cell_type": "code",
   "execution_count": null,
   "metadata": {},
   "outputs": [],
   "source": []
  }
 ],
 "metadata": {
  "kernelspec": {
   "display_name": "Python 3",
   "language": "python",
   "name": "python3"
  },
  "language_info": {
   "codemirror_mode": {
    "name": "ipython",
    "version": 3
   },
   "file_extension": ".py",
   "mimetype": "text/x-python",
   "name": "python",
   "nbconvert_exporter": "python",
   "pygments_lexer": "ipython3",
   "version": "3.6.6"
  }
 },
 "nbformat": 4,
 "nbformat_minor": 2
}
