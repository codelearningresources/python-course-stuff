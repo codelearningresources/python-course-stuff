{
 "cells": [
  {
   "cell_type": "markdown",
   "metadata": {
    "solution": "hidden"
   },
   "source": [
    "# Reusing and bundling\n",
    "\n",
    "Our strategy to standardize default responses, schemas and other components between\n",
    "different API providers, is to provide those definitions in a shared and versioned file,\n",
    "like https://teamdigitale.github.io/openapi/0.0.5/definitions.yaml\n",
    "\n",
    "API providers can then:\n",
    "\n",
    "- `$ref`erence reusable components\n",
    "- eventualy create a single bundled file containing all the resolved references (eg. with `openapi_resolver`)\n",
    "\n",
    "Having a common set of components help API designers to create\n",
    "better interfaces and ask themself some questions, like:\n",
    "\n",
    "- am I considering enough error responses?\n",
    "- should I implement a new schema for this object or \n",
    "  can I reuse an already existing one?\n",
    "\n",
    "### Reusable components in OAS3\n",
    "\n",
    "Supported reusable components can be:\n",
    "\n",
    "- `schemas`: data types and objects\n",
    "- `parameters`: request parameters, that may be defined in `headers` and `query`\n",
    "- `responses`: http responses\n",
    "- `securitySchemes`: security requirements to be applied to a given path\n",
    "\n",
    "NOTE: in this course we won't go indeep on all the possibilities of OAS3, which you can see on the [OAS website](https://TODO)"
   ]
  },
  {
   "cell_type": "markdown",
   "metadata": {},
   "source": [
    "### Exercise: replacing definitions with $refs\n",
    "\n",
    "Starting from a complete file [ex-05-01-bundle.yaml](ex-05-01-bundle.yaml)\n",
    "replace as many definitions as possible with references from the shared  [definitions.yaml](https://teamdigitale.github.io/openapi/0.0.5/definitions.yaml).\n",
    "\n"
   ]
  },
  {
   "cell_type": "code",
   "execution_count": 25,
   "metadata": {},
   "outputs": [
    {
     "name": "stdout",
     "output_type": "stream",
     "text": [
      "Requirement already satisfied: openapi_resolver in /usr/local/lib/python3.6/site-packages (0.0.5)\r\n",
      "Requirement already satisfied: pyyaml in /usr/local/lib/python3.6/site-packages (from openapi_resolver) (5.1.1)\r\n",
      "Requirement already satisfied: pathlib in /usr/local/lib/python3.6/site-packages (from openapi_resolver) (1.0.1)\r\n",
      "Requirement already satisfied: six in /usr/local/lib/python3.6/site-packages (from openapi_resolver) (1.12.0)\r\n"
     ]
    }
   ],
   "source": [
    "# Exercise: creating a bundle from a $ref file\n",
    "# \n",
    "# You can resolve dependencies and create a bundle file with\n",
    "!pip install openapi_resolver\n"
   ]
  },
  {
   "cell_type": "code",
   "execution_count": null,
   "metadata": {},
   "outputs": [],
   "source": [
    "# Exercise: create a bundle from the previous file with\n",
    "!python -m openapi_resolver /code/notebooks/oas3/ex-05-01-bundle.yaml"
   ]
  },
  {
   "cell_type": "markdown",
   "metadata": {},
   "source": [
    "### YAML anchors are your friends\n",
    "\n",
    "YAML has a very nice feature, named **anchors**. They allows to define and reference\n",
    "given portions of a YAML file.\n",
    "\n",
    "```\n",
    "# the following &anchor stores the `foo` value \n",
    "a: &this_is_an_anchor foo\n",
    "\n",
    "# *star dereferences the anchor\n",
    "b: *this_is_an_anchor\n",
    "\n",
    "```\n",
    "\n",
    "See [anchors.yaml](/edit/notebooks/anchors.yaml)"
   ]
  },
  {
   "cell_type": "code",
   "execution_count": null,
   "metadata": {},
   "outputs": [],
   "source": [
    "#  Check yaml file content.\n",
    "from pathlib import Path\n",
    "\n",
    "content = Path('anchors.yaml').read_text()\n",
    "\n",
    "print(content)"
   ]
  },
  {
   "cell_type": "code",
   "execution_count": null,
   "metadata": {},
   "outputs": [],
   "source": [
    "ret = yaml.safe_load(content)\n",
    "\n",
    "assert ret['anchored_content'], ret['other_anchor']\n",
    "\n",
    "print(ret['foo'])\n",
    "print(ret['bar'])"
   ]
  },
  {
   "cell_type": "markdown",
   "metadata": {},
   "source": [
    "### Using YAML anchors in OAS3\n",
    "\n",
    "As every operation may have a set of predefined response, namely:\n",
    "\n",
    "- 503 Service Unavailable\n",
    "- 429 Too Many Requests\n",
    "\n",
    "You can put them in an `x-` custom parameter.which will be ignored by the OAS spec parser. \n",
    "\n",
    "```\n",
    "x-common-responses: &common-responses\n",
    "  503ServiceUnavailable:\n",
    "    $ref: ... \n",
    "  429TooManyRequests:\n",
    "    $ref: ...\n",
    "\n",
    "```\n",
    "\n",
    "Then use the anchor to reference them.\n",
    "\n",
    "```\n",
    "paths:\n",
    "  /status:\n",
    "    get:\n",
    "      ...\n",
    "      responses:\n",
    "        # Add the anchored responses\n",
    "        <<: *common-responses\n",
    "        \n",
    "        # And now the other ones.\n",
    "        '200':\n",
    "          ...\n",
    "```"
   ]
  },
  {
   "cell_type": "markdown",
   "metadata": {},
   "source": [
    "## NOTE: ANCHORS ARE PROCESSED BY THE YAML PARSER, NOT BY OAS\n",
    "## OAS knows nothing about ANCHORS"
   ]
  },
  {
   "cell_type": "code",
   "execution_count": null,
   "metadata": {},
   "outputs": [],
   "source": []
  }
 ],
 "metadata": {
  "kernelspec": {
   "display_name": "Python 3",
   "language": "python",
   "name": "python3"
  },
  "language_info": {
   "codemirror_mode": {
    "name": "ipython",
    "version": 3
   },
   "file_extension": ".py",
   "mimetype": "text/x-python",
   "name": "python",
   "nbconvert_exporter": "python",
   "pygments_lexer": "ipython3",
   "version": "3.6.6"
  }
 },
 "nbformat": 4,
 "nbformat_minor": 2
}
