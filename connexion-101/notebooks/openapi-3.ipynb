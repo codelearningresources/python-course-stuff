{
 "cells": [
  {
   "cell_type": "markdown",
   "metadata": {},
   "source": [
    "# OpenAPI & Modeling\n",
    "\n",
    "OpenAPI is a specification language blablabla\n",
    "\n",
    "Swagger editor is a simple webapp for editing OpenAPI 3 language specs.\n",
    "\n",
    "[Open Swagger Editor ](http://localhost:8080/?url=https://raw.githubusercontent.com/teamdigitale/api-starter-kit/master/openapi/simple.yaml.src)\n",
    "\n",
    "\n",
    "Every OAS3 document begins with\n",
    "\n",
    "```\n",
    "openapi: 3.0.0\n",
    "```"
   ]
  },
  {
   "cell_type": "markdown",
   "metadata": {},
   "source": [
    "## OpenAPI Metadata\n",
    "\n",
    "In OAS3 we should first describe api metadata, to clarify:\n",
    "\n",
    "- API goals, audience and context;\n",
    "- Terms of service;\n",
    "- Versioning.\n",
    "\n",
    "In this exercise we will complete the API metadata and will add some custom features\n",
    "\n",
    "\n",
    "```\n",
    "\n",
    "\n",
    "```"
   ]
  },
  {
   "cell_type": "code",
   "execution_count": null,
   "metadata": {},
   "outputs": [],
   "source": [
    "info:\n",
    "  version: \"1.0.0\"\n",
    "  # Il `title` e' il nome del tuo prodotto/servizio!\n",
    "  # E' la prima cosa ad apparire in pagine web e cataloghi.\n",
    "  # Dev'essere chiaro e conciso.\n",
    "  title: |-\n",
    "    Ora esatta.\n",
    "  x-summary: >-\n",
    "    Questo servizio ritorna la data e l'ora attuali in UTC.\n",
    "  description: |\n",
    "    #### Documentazione\n",
    "    Il servizio Ora esatta ritorna l'ora del server in formato RFC5424 (syslog).\n",
    "\n",
    "    `2018-12-30T12:23:32Z`\n",
    "\n",
    "    Qui va' inserita la documentazione principale del servizio.\n",
    "    Il testo dev'essere diviso in piu' parti, tutte scritte in Markdown.\n",
    "\n",
    "    Questa sezione e' informativa. Ricordati di inserire:\n",
    "\n",
    "      * cosa fanno queste API?\n",
    "      * chi puo' beneficiarne?\n",
    "      * perche' sono utili?\n",
    "\n",
    "    ##### Sottosezioni\n",
    "    E' possibile utilizzare - con criterio - delle sottosezioni.\n",
    "\n",
    "    #### Note\n",
    "\n",
    "    Il servizio non richiede autenticazione, ma va' usato rispettando gli\n",
    "    header di throttling esposti in conformita' alle Linee Guida del Modello di interoperabilita'.\n",
    "\n",
    "    Usa questa sezione per annotazioni specifiche, riferimenti normativi e/o\n",
    "    per manleve ed esclusioni di responsabilita' eventualmente non incluse in `termsOfService`.\n",
    "\n",
    "    #### Informazioni tecniche ed esempi\n",
    "\n",
    "    Esempio:\n",
    "\n",
    "    ```\n",
    "    http http://localhost:8443/datetime/v1/echo\n",
    "    {\n",
    "      'datetime': '2018-12-30T12:23:32Z'\n",
    "    }\n",
    "    ```\n",
    "\n",
    "    Qui e' possibile introdurre brevi informazioni tecniche ed esempi.\n",
    "    Attenzione: la `description` non sostituisce la documentazione di progetto,\n",
    "    deve pero' facilitare l'esecuzione delle prime richieste.\n",
    "\n",
    "\n",
    "  # I termini del servizio contengono un riferimento\n",
    "  #   a tutte le indicazioni e le note legali per l'utilizzo\n",
    "  #   del servizio, inclusi gli eventuali riferimenti utili al GDPR.\n",
    "  termsOfService: 'http://swagger.io/terms/'\n",
    "  # Chi posso contattare per informazioni sul servizio e sul suo stato?\n",
    "  contact:\n",
    "    email: robipolli@gmail.com\n",
    "    name: Roberto Polli\n",
    "    url: https://twitter.com/ioggstream\n",
    "  # L'audience delle API. Attualmente e' definito solamente\n",
    "  #   la tipologia `public`.\n",
    "  x-audience:\n",
    "    - public\n",
    "  # Ogni API deve avere un UUID, invariante nel tempo e\n",
    "  #   rispetto al `title`.\n",
    "  x-api-id: 00000000-0000-0000-0000-000000000000\n",
    "  license:\n",
    "    name: Apache 2.0\n",
    "    url: 'http://www.apache.org/licenses/LICENSE-2.0.html'\n",
    "\n",
    "  # Per dare indicazioni sul ciclo di vita dell'API\n",
    "  # si puo' usare un parametro come:\n",
    "  x-lifecycle:\n",
    "    published: 1970-01-01\n",
    "    deprecated: 2050-01-01\n",
    "    retired: 2050-06-01\n",
    "    maturity: published\n"
   ]
  },
  {
   "cell_type": "code",
   "execution_count": 2,
   "metadata": {},
   "outputs": [],
   "source": [
    "### Basic fields\n",
    "### Terms of Services"
   ]
  },
  {
   "cell_type": "markdown",
   "metadata": {},
   "source": [
    "### Custom fields\n",
    "\n",
    "In Italy we're experimenting with some custom fields to help catalogs and metadata\n",
    "\n",
    "**x-summary** is a catalog based fields. The new OAS 3.1 integrates it as **summary**\n",
    "\n",
    "**x-lifecycle** \n",
    "\n",
    "**x-gdpr** with a list of roles\n",
    "\n",
    "**x-geodata** add local references in a machine readable format"
   ]
  },
  {
   "cell_type": "code",
   "execution_count": null,
   "metadata": {},
   "outputs": [],
   "source": [
    "##"
   ]
  }
 ],
 "metadata": {
  "kernelspec": {
   "display_name": "Python 3",
   "language": "python",
   "name": "python3"
  },
  "language_info": {
   "codemirror_mode": {
    "name": "ipython",
    "version": 3
   },
   "file_extension": ".py",
   "mimetype": "text/x-python",
   "name": "python",
   "nbconvert_exporter": "python",
   "pygments_lexer": "ipython3",
   "version": "3.6.6"
  }
 },
 "nbformat": 4,
 "nbformat_minor": 2
}
