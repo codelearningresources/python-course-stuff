{
 "cells": [
  {
   "cell_type": "markdown",
   "metadata": {},
   "source": [
    "# Interoperable APIs\n",
    "\n",
    "The Italian Government - like other Countries - is standardizing REST APIs to create an uniform developer experience for software provided by its 20_000 agencies and 8_000 municipalities.\n",
    "\n",
    "At the core of this interoperability strategy we have:\n",
    "\n",
    "- API First Approach with OpenAPI v3\n",
    "- HTTPS everywhere\n",
    "- Service Management with standardized throttling and circuit-breaker patterns\n",
    "- Standardized approach to metrics\n",
    "\n"
   ]
  },
  {
   "cell_type": "markdown",
   "metadata": {},
   "source": [
    "# This training\n",
    "\n",
    "In this training we'll show how to:\n",
    "\n",
    "- model interoperable API\n",
    "- leverage interoperability by reuse\n",
    "\n",
    "We'll use `connexion`, a python framework which streamlines API creation."
   ]
  },
  {
   "cell_type": "markdown",
   "metadata": {},
   "source": [
    "# REST and RPC\n",
    "\n",
    "When writing an API, the historical approach was to view any interaction like a function call.\n",
    "In a network environment this is seen as a `Remote Procedure Call`. This is the tipical SOAP approach,\n",
    "where you bind a service to an URL and different functions to invocation methods, but even today\n",
    "there are a lot of different APIs using an RPC approach.\n",
    "\n",
    "The widespread of HTTP as a distributed computation protocol, and the rise of data give birth to REST.\n",
    "REST, aka REpresentation State Transfer, is not a protocol, but an architectural style which mimics the distributed characteristics of the web.\n",
    "\n",
    "In REST, everything is a `resource` whom state is transferred between an Origin Server and a User Agent. There are no \"functions\" but everything is modeled with a resource-like approach. The main advantage of using a REST\n",
    "architectural style is that you can leverage the distributed nature of the web and the features of HTTP which\n",
    "are redesigned with REST in mind (see RFC723x and the new http-core Internet-Drafts).\n",
    "\n",
    "\n",
    "While REST is not a silver bullet, it fits very well government agencies goals as services for citizens\n",
    "are inherently built around data. Moreover a semantic approach to URIs simplifies routing and auditing based on\n",
    "method and paths."
   ]
  },
  {
   "cell_type": "markdown",
   "metadata": {},
   "source": [
    "## Contract first, Code first\n",
    "\n",
    "When creating a web service, it's important to have an Interface Description Language. That's a machine readable\n",
    "language that can be used to describe the interface. The most famous IDL is WSDL used by SOAP web services. For REST APIs the standard IDL is OpenAPI v3 aka OAS3.\n",
    "\n",
    "For example, a web service accepting the following request `GET /echo` and returning a json object could be described in OAS3 like the following:\n",
    "\n",
    "```\n",
    "...\n",
    "paths:\n",
    "  /echo:\n",
    "    get:\n",
    "      responses:\n",
    "        \"200\":\n",
    "          application/json: {}\n",
    "...\n",
    "```\n",
    "\n",
    "This allows to disambiguate the API definitions and usage.\n",
    "\n",
    "We can usually find two approach:\n",
    "\n",
    "- code first: where one develops a function on a specific language and then uses some tool to generate the\n",
    "  IDL. An example function generating the above IDL could be\n",
    "  \n",
    "  ```\n",
    "  def echo():\n",
    "      return {\"hello\": \"world\"}, 200, {'content-type': 'application/json'}\n",
    "  ```\n",
    "  \n",
    "- contract first: one writes down the interface in an IDL, then let the tools generate the code stubs.\n",
    "\n",
    "While lazy developers prefers to use code-first, as they could focus on writing the actual code and leave the interface as an underproduct, this approach rarely works in a large ecosystem where different actors in a long timeframe works with different frameworks and enviroments.\n",
    "\n",
    "A contract-first approach has many advantages:\n",
    "\n",
    "- allows to focus on the actual design of the API, without being entangled by implementation details;\n",
    "- it's independent from which framework or language people uses for its client/server implementation and from how frameworks generate the specs (which may be buggy);\n",
    "\n",
    "Focusing on the specs, allows to create API modeling iterations that enable\n",
    "the API to change fast and involve stakeholders in the modeling and in the \n",
    "API lifecycle.\n",
    "\n",
    "NB: this doesn't mean iterations don't involve testing that the actual code works ;)\n"
   ]
  },
  {
   "cell_type": "code",
   "execution_count": null,
   "metadata": {},
   "outputs": [],
   "source": []
  },
  {
   "cell_type": "code",
   "execution_count": null,
   "metadata": {},
   "outputs": [],
   "source": []
  },
  {
   "cell_type": "code",
   "execution_count": null,
   "metadata": {},
   "outputs": [],
   "source": []
  }
 ],
 "metadata": {
  "kernelspec": {
   "display_name": "Python 3",
   "language": "python",
   "name": "python3"
  },
  "language_info": {
   "codemirror_mode": {
    "name": "ipython",
    "version": 3
   },
   "file_extension": ".py",
   "mimetype": "text/x-python",
   "name": "python",
   "nbconvert_exporter": "python",
   "pygments_lexer": "ipython3",
   "version": "3.6.6"
  }
 },
 "nbformat": 4,
 "nbformat_minor": 2
}
