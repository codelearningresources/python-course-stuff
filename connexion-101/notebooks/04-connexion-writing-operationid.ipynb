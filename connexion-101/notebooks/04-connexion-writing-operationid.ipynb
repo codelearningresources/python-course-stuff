{
 "cells": [
  {
   "cell_type": "markdown",
   "metadata": {},
   "source": [
    "# Implementing methods\n",
    "\n",
    "Once we have a mock server, we could already provide an interface for\n",
    "external services to mock our replies. This is very helpful to enable\n",
    "clients to test our API and enable quick feedbacks on data types and possible responses.\n",
    "\n",
    "\n",
    "Now that we have the contract, we should start with the implementation!\n",
    "\n",
    "\n",
    "## OperationId\n",
    "\n",
    "OperationId is the OAS3 fields with maps the resource-target with the python function to call.\n",
    "\n",
    "```\n",
    "paths:\n",
    "  /status\n",
    "    get:\n",
    "      ...\n",
    "      operationId: api.get_status\n",
    "      ...\n",
    "```\n",
    "\n",
    "The method signature should reflect the function's one.\n",
    "\n",
    "OAS allows to pass parameters to the resource target via:\n",
    "- query parameters\n",
    "- http headers\n",
    "- request body\n",
    "\n",
    "### Implement get_status\n",
    "\n",
    "At first we'll just implement the `get_status` in [api.py](/edit/notebooks/oas3/api.py) function that:\n",
    "\n",
    "- takes no input parameters;\n",
    "- returns a problem+json\n",
    "\n"
   ]
  },
  {
   "cell_type": "code",
   "execution_count": null,
   "metadata": {
    "solution": "shown",
    "solution_first": true
   },
   "outputs": [],
   "source": [
    "# connexion provides a predefined problem object\n",
    "from connexion import problem\n",
    "\n",
    "    \n",
    "# Exercise: write a get_status() returning a successful response to problem.\n",
    "help(problem)"
   ]
  },
  {
   "cell_type": "code",
   "execution_count": null,
   "metadata": {
    "solution": "shown"
   },
   "outputs": [],
   "source": [
    "def get_status():\n",
    "    return problem(\n",
    "        status=200,\n",
    "        title=\"OK\",\n",
    "        detail=\"The application is working properly\"\n",
    "    )\n",
    "    "
   ]
  },
  {
   "cell_type": "markdown",
   "metadata": {},
   "source": [
    "Now  [run the spec in a terminal](/terminals/1) using\n",
    "\n",
    "```\n",
    "cd /code/notebooks/oas3/\n",
    "connexion run /code/notebooks/oas3/ex-03-02-path.yaml\n",
    "```\n",
    "\n",
    "play a bit with the [Swagger UI](https://TODO)\n",
    "\n",
    "and try making a request!\n"
   ]
  },
  {
   "cell_type": "code",
   "execution_count": null,
   "metadata": {},
   "outputs": [],
   "source": [
    "!curl http://localhost:5000/datetime/v1/status -kv"
   ]
  },
  {
   "cell_type": "markdown",
   "metadata": {},
   "source": [
    "### Returning errors.\n",
    "\n",
    "Our api.get_status implementation always returns `200 OK`, but in the real world APIs could\n",
    "return different kind of errors.\n",
    "\n",
    "An interoperable API should:\n",
    "\n",
    "- fail fast, avoiding that application errors result in stuck connections;\n",
    "- implement a clean error semantic.\n",
    "\n",
    "In our Service Management framework we expect that:\n",
    "\n",
    "- if the Service is unavailable, we must return `503 Service Unavailable` http status\n",
    "- we must return the `Retry-After` header specifying the number of seconds\n",
    "  when to retry.\n",
    "\n",
    "TODO: ADD CIRCUIT_BREAKER IMAGE\n",
    "\n",
    "To implement this we must:\n",
    "\n",
    "1. add the returned headers in the OAS3 interface;\n",
    "2. pass the headers to the flask Response\n"
   ]
  },
  {
   "cell_type": "markdown",
   "metadata": {},
   "source": [
    "### Exercise\n",
    "\n",
    "Modify the OAS3 spec in [ex-04-01-headers.yaml](/edit/notebooks/oas3/ex-04-01-headers-ok.yaml) and:\n",
    "\n",
    "- add a `503` response to the `/status` path;\n",
    "- when a `503` is returned, the `retry-after` header is returned.\n",
    "\n",
    "Hint:  you can define a header in `components/headers` like that:\n",
    "\n",
    "```\n",
    "components:\n",
    "  headers:\n",
    "    Retry-After:\n",
    "      description: |-\n",
    "        Retry contacting the endpoint *at least* after seconds.\n",
    "        See https://tools.ietf.org/html/rfc7231#section-7.1.3\n",
    "    schema:\n",
    "      format: int32\n",
    "      type: integer\n",
    "\n",
    "```\n",
    "\n",
    "\n",
    "Or just `$ref` the `Retry-After` defined in https://teamdigitale.github.io/openapi/0.0.5/definitions.yaml#/headers/Retry-After"
   ]
  },
  {
   "cell_type": "markdown",
   "metadata": {
    "solution": "hidden",
    "solution_first": true
   },
   "source": [
    "Modify [api.py:get_status](/edit/notebooks/oas3/api.py) such that:\n",
    "\n",
    "- returns a `503` on 20% of the requests;\n",
    "- when a `503` is returned, the `retry-after` header is returned.\n"
   ]
  },
  {
   "cell_type": "code",
   "execution_count": null,
   "metadata": {
    "solution": "hidden"
   },
   "outputs": [],
   "source": [
    "from random import randint\n",
    "\n",
    "\n",
    "def get_status():\n",
    "    p = randint(1, 5)\n",
    "    if p == 5:\n",
    "        return problem(\n",
    "            status=503,\n",
    "            title=\"Service Temporarily Unavailable\",\n",
    "            detail=\"Retry after the number of seconds specified in the the Retry-After header.\",\n",
    "            headers={'Retry-After': str(p)}\n",
    "        )\n",
    "    return problem(\n",
    "        status=200,\n",
    "        title=\"OK\",\n",
    "        detail=\"So far so good.\"\n",
    "    )"
   ]
  },
  {
   "cell_type": "markdown",
   "metadata": {},
   "source": [
    "## Reusing default responses\n",
    "\n",
    "As `503` is a quite recurring response, it's worth to define it in a reusable yaml file,\n",
    "so that every path can reuse it.\n",
    "\n",
    "\n",
    "### Exercise: reusable responses\n",
    "\n",
    "In the following exercise you should edit [ex-04-01-headers.yaml](/edit/notebooks/oas3/ex-04-01-headers-ok.yaml) and:\n",
    "\n",
    "- move the `503` response from the `/status` path definition to the `components/responses` one, eg.\n",
    "\n",
    "```\n",
    "components:\n",
    "  responses:\n",
    "    503ServiceUnavailable:\n",
    "      ...\n",
    "```\n",
    "\n",
    "- reference `#/components/responses/503ServiceUnavailable` in the `/status` path\n",
    "\n",
    "Your new file is semantically equivalent to the previous one: check that you can \n",
    "nicely `connexion run` your file in [terminal](/terminals/1)!\n",
    "\n",
    "```\n",
    "connexion run /code/notebooks/oas3/ex-04-01-headers.yaml\n",
    "```\n"
   ]
  },
  {
   "cell_type": "code",
   "execution_count": null,
   "metadata": {},
   "outputs": [],
   "source": []
  }
 ],
 "metadata": {
  "kernelspec": {
   "display_name": "Python 3",
   "language": "python",
   "name": "python3"
  },
  "language_info": {
   "codemirror_mode": {
    "name": "ipython",
    "version": 3
   },
   "file_extension": ".py",
   "mimetype": "text/x-python",
   "name": "python",
   "nbconvert_exporter": "python",
   "pygments_lexer": "ipython3",
   "version": "3.6.6"
  }
 },
 "nbformat": 4,
 "nbformat_minor": 2
}
