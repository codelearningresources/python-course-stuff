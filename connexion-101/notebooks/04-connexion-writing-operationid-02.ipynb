{
 "cells": [
  {
   "cell_type": "markdown",
   "metadata": {
    "solution": "hidden"
   },
   "source": [
    "# A new path: /echo\n",
    "\n",
    "Now we're going to write a new path: `/echo`.\n",
    "\n",
    "Our goal is the following:\n",
    "\n",
    "- when invoking `/datetime/v1/echo` the API will return \n",
    "  the current datetime;\n",
    "- the response is enveloped in the following example json object:\n",
    "\n",
    "```\n",
    "{ \"timestamp\": \"2019-12-25T00:00:00Z\" }\n",
    "```\n",
    "\n",
    "- the status code for a successful response is `200`\n",
    "\n",
    "### Exercise: write /echo specs\n",
    "\n",
    "Edit the [ex-04-02-echo-ok.yaml](/edit/notebooks/oas3/ex-04-02-echo.yaml]) and write the `echo` specifications:\n",
    "\n",
    "1- define the new `Datetime` schema to be used in the response;\n",
    "\n",
    "2- define the new `/echo` path supporting the `get` method and:\n",
    "\n",
    "  * always write proper `summary` and `description` fields\n",
    "  \n",
    "3- `get /echo` possible responses are:\n",
    "\n",
    "  * `200` returning a `Datetime` in json format, with a complete `example` for mocks\n",
    "  * `503` returning a `problem+json`\n",
    "  \n",
    "\n",
    "4- don't forget `operationId` !\n",
    "\n",
    "Hint: feel free to reuse as much yaml code as possible.\n",
    "\n",
    "### Exercise: test /echo mocks\n",
    "\n",
    "Run your spec [in the terminal](/terminals/1) and check that it properly returns the mock objects.\n",
    "\n",
    "Use \n",
    "\n",
    "```\n",
    "connexion run --mock all /code/notebooks/oas3/ex-04-02-echo-ok.yaml\n",
    "```"
   ]
  },
  {
   "cell_type": "code",
   "execution_count": null,
   "metadata": {},
   "outputs": [],
   "source": [
    "# Use this cell to test the output\n",
    "!curl http://localhost:5000/datetime/v1/echo -vk"
   ]
  },
  {
   "cell_type": "markdown",
   "metadata": {},
   "source": [
    "## Request parameters\n",
    "\n",
    "OAS3 allows to specify parameters both in `query` and in `headers`.\n",
    "\n",
    "Interoperable APIs should follow simple rules when using parameters:\n",
    "\n",
    "- define parameter conventions for common patterns, eg: limit, offset;\n",
    "- use standard HTTP headers when possible.\n",
    "\n",
    "As many APIs implement pagination, it's a good think to converge to a common\n",
    "set of parameters to use. Our choice is:\n",
    "\n",
    "- limit: max number of entries to retrieve\n",
    "- offset: the number of entries to skip in a paginated request\n",
    "- cursor: an identifier (cursor) of the first entry to be returned  \n",
    "  [Slack APIs provide an example of cursor-based pagination](https://api.slack.com/docs/pagination)"
   ]
  },
  {
   "cell_type": "markdown",
   "metadata": {},
   "source": [
    "## Adding request parameters to `/echo`\n",
    "\n",
    "Request parameters can be defined in \n",
    "\n",
    "```\n",
    "components:\n",
    "  parameters:\n",
    "    a_sample_parameter:\n",
    "      ...\n",
    "```"
   ]
  },
  {
   "cell_type": "code",
   "execution_count": null,
   "metadata": {
    "solution": "hidden"
   },
   "outputs": [],
   "source": [
    "# Here's the `limit` parameter definition, including\n",
    "# - it's a `query` parameter\n",
    "# - its name\n",
    "# - its schema\n",
    "print(show_component('https://teamdigitale.github.io/openapi/0.0.5/definitions.yaml#/parameters/limit'))"
   ]
  },
  {
   "cell_type": "markdown",
   "metadata": {},
   "source": [
    "### Exercise: adding parameters to `/echo`\n",
    "\n",
    "Let's add a `tz` parameter to `/echo`:\n",
    "\n",
    "- create a `#/components/schemas/Timezone` schema definition. Valid values are:\n",
    "\n",
    "  * 'Europe/Rome'\n",
    "  * 'UTC' (default)\n",
    "  * 'Asia/Calcutta'\n",
    "  \n",
    "- create a `#/components/parameters/tz` parameter definition;\n",
    "- add the `tz` query parameter to `get /echo` path checking\n",
    "  the [official OAS 3.0.2 documentation](https://github.com/OAI/OpenAPI-Specification/blob/master/versions/3.0.2.md#examples)\n",
    "- add a `400 Bad Request` response in case the timezone is not in the list\n",
    "\n",
    "Finally, check that you can run the spec.\n",
    "\n",
    "```\n",
    "connexion run --mock all /code/notebooks/oas3/ex-04-02-echo-ok.yaml\n",
    "```"
   ]
  },
  {
   "cell_type": "code",
   "execution_count": null,
   "metadata": {},
   "outputs": [],
   "source": [
    "# Use this cell to test your api"
   ]
  },
  {
   "cell_type": "markdown",
   "metadata": {},
   "source": [
    "### Implement get_status\n",
    "\n",
    "Let's implement the `get_echo` in [api.py](/edit/notebooks/oas3/api.py) function that:\n",
    "\n",
    "- takes the `tz` parameter, which defaults to `UTC`;\n",
    "- returns a `Datetime` object in its current timezone."
   ]
  },
  {
   "cell_type": "code",
   "execution_count": null,
   "metadata": {},
   "outputs": [],
   "source": [
    "# hint: get the timezone from \n",
    "!pip install pytz"
   ]
  },
  {
   "cell_type": "code",
   "execution_count": null,
   "metadata": {},
   "outputs": [],
   "source": [
    "import pytz \n",
    "tz = pytz.timezone('Europe/Rome')\n",
    "print(tz.name)"
   ]
  },
  {
   "cell_type": "code",
   "execution_count": null,
   "metadata": {},
   "outputs": [],
   "source": [
    "# No timezones in Netherland :)\n",
    "'Netherland' in pytz.all_timezones"
   ]
  },
  {
   "cell_type": "code",
   "execution_count": null,
   "metadata": {
    "solution": "shown",
    "solution_first": true
   },
   "outputs": [],
   "source": [
    "# connexion provides a predefined problem object\n",
    "from connexion import problem\n",
    "\n",
    "    \n",
    "# Exercise: write a get_status() returning a successful response to problem.\n",
    "help(problem)"
   ]
  },
  {
   "cell_type": "code",
   "execution_count": null,
   "metadata": {
    "solution": "shown"
   },
   "outputs": [],
   "source": [
    "def get_echo(tz='UTC'):\n",
    "    if tz not in pytz.all_timezones:\n",
    "        return problem(\n",
    "            status=400,\n",
    "            title=\"Bad Timezone\",\n",
    "            detail=\"The specified timezone is not valid\",\n",
    "            ext={\"valid_timezones\": pytz.all_timezones}\n",
    "        )\n",
    "    d = datetime.now(tz=pytz.timezone(tz))\n",
    "    return {\"timestamp\": d.isoformat().replace('+00:00', 'Z')}\n",
    "    "
   ]
  },
  {
   "cell_type": "code",
   "execution_count": null,
   "metadata": {},
   "outputs": [],
   "source": [
    "Now  [run the spec in a terminal](/terminals/1) using\n",
    "\n",
    "```\n",
    "cd /code/notebooks/oas3/\n",
    "connexion run /code/notebooks/oas3/ex-04-02-echo-ok.yaml\n",
    "```\n",
    "\n",
    "play a bit with the [Swagger UI](https://TODO)\n",
    "\n",
    "and try making a request!"
   ]
  },
  {
   "cell_type": "code",
   "execution_count": null,
   "metadata": {},
   "outputs": [],
   "source": [
    "## TODO do we have enough time to show flask_testing?\n",
    "\n",
    "# Check that default works\n",
    "!curl http://localhost:5000/datetime/v1/echo -kv"
   ]
  },
  {
   "cell_type": "code",
   "execution_count": null,
   "metadata": {},
   "outputs": [],
   "source": [
    "# Test a valid timezone\n",
    "!curl http://localhost:5000/datetime/v1/echo?tz=Europe/Rome -kv"
   ]
  },
  {
   "cell_type": "code",
   "execution_count": null,
   "metadata": {},
   "outputs": [],
   "source": [
    "# Test an invalid timezoe\n",
    "!curl http://localhost:5000/datetime/v1/echo?tz=Frittole -kv"
   ]
  },
  {
   "cell_type": "code",
   "execution_count": null,
   "metadata": {
    "solution": "hidden"
   },
   "outputs": [],
   "source": [
    "from random import randint\n",
    "\n",
    "\n",
    "def get_status():\n",
    "    p = randint(1, 5)\n",
    "    if p == 5:\n",
    "        return problem(\n",
    "            status=503,\n",
    "            title=\"Service Temporarily Unavailable\",\n",
    "            detail=\"Retry after the number of seconds specified in the the Retry-After header.\",\n",
    "            headers={'Retry-After': str(p)}\n",
    "        )\n",
    "    return problem(\n",
    "        status=200,\n",
    "        title=\"OK\",\n",
    "        detail=\"So far so good.\"\n",
    "    )"
   ]
  },
  {
   "cell_type": "code",
   "execution_count": null,
   "metadata": {},
   "outputs": [],
   "source": []
  }
 ],
 "metadata": {
  "kernelspec": {
   "display_name": "Python 3",
   "language": "python",
   "name": "python3"
  },
  "language_info": {
   "codemirror_mode": {
    "name": "ipython",
    "version": 3
   },
   "file_extension": ".py",
   "mimetype": "text/x-python",
   "name": "python",
   "nbconvert_exporter": "python",
   "pygments_lexer": "ipython3",
   "version": "3.6.6"
  }
 },
 "nbformat": 4,
 "nbformat_minor": 2
}
