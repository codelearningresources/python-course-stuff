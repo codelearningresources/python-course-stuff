{
 "cells": [
  {
   "cell_type": "markdown",
   "metadata": {},
   "source": [
    "# Connexion\n",
    "\n",
    "[Connexion](https://github.com/zalando/connexion) is a python framework based on flask.\n",
    "\n",
    "It streamlines the creation of contract-first REST APIs.\n",
    "\n",
    "Once you have your OAS3 spec, `connexion` can use it to:\n",
    "\n",
    "- dispatch requests\n",
    "- serve mock responses on unimplemented methods\n",
    "- validate input and output of the called methods\n",
    "- apply authentication policies"
   ]
  },
  {
   "cell_type": "code",
   "execution_count": null,
   "metadata": {},
   "outputs": [],
   "source": [
    "# At first ensure connexion is installed \n",
    "# together with the swagger module used to render the OAS3 spec\n",
    "# in the web-ui\n",
    "!pip install connexion[swagger-ui] connexion"
   ]
  },
  {
   "cell_type": "markdown",
   "metadata": {},
   "source": [
    "Now  [run the spec in a terminal](/terminals/1) using\n",
    "\n",
    "```\n",
    "connexion run /code/notebooks/oas3/ex-1-info-ok.yaml\n",
    "```\n",
    "\n",
    "and play a bit with the [Swagger UI](https://TODO)"
   ]
  },
  {
   "cell_type": "markdown",
   "metadata": {},
   "source": [
    "## Defining endpoints in OAS3\n",
    "\n",
    "Now that we have added our metadata, we can provide informations about the endpoints.\n",
    "OAS3 allows multiple endpoint because good APIs have many.\n",
    "\n",
    "\n",
    "```\n",
    "# One or more server\n",
    "#   You can add production, staging and test environments.\n",
    "#   We\n",
    "#   sandbox instances\n",
    "servers:\n",
    "  - description: |\n",
    "      An interoperable API has many endpoints.\n",
    "      One for development...\n",
    "    url: https://localhost:8443/datetime/v1\n",
    "    \n",
    "  - description: \n",
    "      One for testing in a sandboxed environment. This\n",
    "      is especially important to avoid clients to \n",
    "      test in production.\n",
    "      We are using the custom `x-sandbox` to identify \n",
    "    url: https://api.example.com/datetime/v1\n",
    "    x-sandbox: true\n",
    "    \n",
    "  - description: |\n",
    "      Then we have our production endpoint.\n",
    "      The custom `x-healthCheck` parameter\n",
    "      can be used to declare how to check the API.\n",
    "    url: https://api.example.com/datetime/v1/status \n",
    "    x-healthCheck:\n",
    "      url: https://api.example.com/datetime/v1/status\n",
    "      interval: 300\n",
    "      timeout: 15\n",
    "\n",
    "```"
   ]
  },
  {
   "cell_type": "markdown",
   "metadata": {},
   "source": [
    "### Exercise\n",
    "\n",
    "Edit the `servers` attribute so that it points to your actual endpoint URL (eg. your IP/port)."
   ]
  },
  {
   "cell_type": "markdown",
   "metadata": {},
   "source": [
    "## paths\n",
    "\n",
    "Now we can define our first `path` that is the `/status` one.\n",
    "An interoperable API should have a well known url usable for testing its status, so that\n",
    "the implementers can decide which is a suitable method for testing it (eg. it could be\n",
    "a simple OK/KO method or can execute basic checks (eg. databases are reachable, smoke testing other components, ..)\n",
    "\n",
    "NB: the `/status` path is not a replacement for proper monitoring your APIs, but a way to communicate to your peers that you're online."
   ]
  },
  {
   "cell_type": "markdown",
   "metadata": {},
   "source": [
    "An OAS3 path references:\n",
    "    \n",
    "- the associated METHOD\n",
    "- a `summary` and a `description` of the method\n",
    "\n",
    "\n",
    "```  \n",
    "  /status:\n",
    "    get:\n",
    "      summary: Ritorna lo stato dell'applicazione.\n",
    "      description: |\n",
    "        Ritorna lo stato dell'applicazione. A scopo\n",
    "        di test, su base randomica puo' ritornare\n",
    "        un errore.\n",
    "```\n",
    "- a reference to the python object to call when the \n",
    "   \n",
    "```\n",
    "      operationId: get_status\n",
    "```\n",
    "\n",
    "- the http statuses of the possible responses, each with its description,\n",
    "  content-type and examples\n",
    "      \n",
    "```\n",
    "      responses:\n",
    "        '200':\n",
    "          description: |\n",
    "            Il server ha ritornato lo status. In caso di problemi\n",
    "            ritorna sempre un problem+json.\n",
    "          content:\n",
    "            application/problem+json:\n",
    "              example:\n",
    "                status: 200\n",
    "                title: OK\n",
    "                detail: API is working properly.\n",
    "        default:\n",
    "          description: |\n",
    "            If none of the above statuses is returned, then this applies\n",
    "          content:\n",
    "            application/problem+json:\n",
    "              example:\n",
    "                status: 500\n",
    "                title: Internal Server Error\n",
    "                detail: API is not responding correctly\n",
    "            \n",
    "           \n",
    "\n",
    "```"
   ]
  },
  {
   "cell_type": "markdown",
   "metadata": {},
   "source": [
    "### Exercise\n",
    "\n",
    "We haven't already implemented the `operationId`\n",
    "`get_status()`, so  [to run the spec in a terminal](/terminals/1) we should tell the server\n",
    "to ignore this.\n",
    "\n",
    "```\n",
    "connexion run /code/notebooks/oas3/ex-03-02-path.yaml --stub\n",
    "```"
   ]
  },
  {
   "cell_type": "markdown",
   "metadata": {
    "solution": "hidden",
    "solution_first": true
   },
   "source": [
    "### Exercise\n",
    "\n",
    "1- What happens if I get the `/status` resource of my API now?\n",
    "\n",
    "2- And if I invoke another path which is not mentioned in the spec?\n",
    "\n",
    "3- Restart the server via\n",
    "\n",
    "```\n",
    "connexion run /code/notebooks/oas3/ex-03-02-path.yaml --mock notimplemented\n",
    "```"
   ]
  },
  {
   "cell_type": "code",
   "execution_count": null,
   "metadata": {
    "solution": "hidden",
    "solution_first": true
   },
   "outputs": [],
   "source": [
    "# Exercise:  what's the expected output of the following command?\n",
    "\n",
    "!curl http://0.0.0.0:8889/datetime/v1/status\n",
    "        \n",
    "# Exercise: what happens if you GET an unexisting path?        \n",
    "\n",
    "!curl http://0.0.0.0:8889/datetime/v1/MISSING\n",
    "        "
   ]
  },
  {
   "cell_type": "markdown",
   "metadata": {
    "solution": "hidden"
   },
   "source": [
    "Solution on the unimplemented method\n",
    "\n",
    "```\n",
    "$ curl http://0.0.0.0:8889/datetime/v1/status\n",
    "{\n",
    "  \"detail\": \"Empty module name\",\n",
    "  \"status\": 501,\n",
    "  \"title\": \"Not Implemented\",\n",
    "  \"type\": \"about:blank\"\n",
    "}\n",
    "```\n",
    "\n",
    "Solution on other paths\n",
    "\n",
    "```\n",
    "$ curl http://0.0.0.0:8889/datetime/v1/missing\n",
    "{\n",
    "  \"detail\": \"The requested URL was not found on the server. If you entered the URL manually please check your spelling and try again.\",\n",
    "  \"status\": 404,\n",
    "  \"title\": \"Not Found\",\n",
    "  \"type\": \"about:blank\"\n",
    "}\n",
    "```"
   ]
  },
  {
   "cell_type": "markdown",
   "metadata": {},
   "source": [
    "## Schemas\n",
    "\n",
    "OAS3 allows defining, using and reusing schemas. \n",
    "\n",
    "They can be defined inline,  in the `component` section or referenced from another file, like below.\n",
    "\n",
    "```\n",
    "components:\n",
    "    schemas:\n",
    "      Problem:\n",
    "        $ref: 'https://teamdigitale.github.io/openapi/0.0.5/definitions.yaml#/schemas/Problem'\n",
    "\n",
    "```\n"
   ]
  },
  {
   "cell_type": "code",
   "execution_count": null,
   "metadata": {},
   "outputs": [],
   "source": [
    "print(show_component('https://teamdigitale.github.io/openapi/0.0.5/definitions.yaml#/schemas/Problem'))"
   ]
  },
  {
   "cell_type": "code",
   "execution_count": null,
   "metadata": {},
   "outputs": [],
   "source": [
    "# Exercise: use well-known libraries \n",
    "# to download the Problem schema\n",
    "from requests import get\n",
    "ret  = get('https://teamdigitale.github.io/openapi/0.0.5/definitions.yaml')\n",
    "\n",
    "# Yaml parse the definitions\n",
    "definitions = yaml.safe_load(ret.content)\n",
    "\n",
    "# Nicely print the Problem schema\n",
    "print(yaml.dump(definitions['schemas']['Problem']))"
   ]
  },
  {
   "cell_type": "code",
   "execution_count": null,
   "metadata": {
    "solution": "hidden",
    "solution_first": true
   },
   "outputs": [],
   "source": [
    "### Exercise\n",
    "# Read the definitions above\n",
    "# - https://teamdigitale.github.io/openapi/0.0.5/definitions.yaml\n",
    "#\n",
    "# Then use this cell to list all the structures present in definitions"
   ]
  },
  {
   "cell_type": "code",
   "execution_count": null,
   "metadata": {
    "solution": "hidden"
   },
   "outputs": [],
   "source": [
    "for sections, v in definitions.items():\n",
    "    for items, vv in v.items():\n",
    "        print(f'{sections}.{items}')"
   ]
  },
  {
   "cell_type": "markdown",
   "metadata": {},
   "source": [
    "## Exercise\n",
    "\n",
    "Edit [ex-03-02-path.yaml](/edit/notebooks/oas3/ex-03-02-path.yaml) so that every `/status` response uses\n",
    "the `Problem` schema.\n",
    "\n",
    "Look at [simple.yaml](https://github.com/teamdigitale/api-starter-kit/blob/master/openapi/simple.yaml) to\n",
    "see a complete implementation."
   ]
  },
  {
   "cell_type": "code",
   "execution_count": null,
   "metadata": {},
   "outputs": [],
   "source": [
    "## Exercise\n",
    "\n",
    "Test the new setup\n",
    "\n"
   ]
  }
 ],
 "metadata": {
  "kernelspec": {
   "display_name": "Python 3",
   "language": "python",
   "name": "python3"
  },
  "language_info": {
   "codemirror_mode": {
    "name": "ipython",
    "version": 3
   },
   "file_extension": ".py",
   "mimetype": "text/x-python",
   "name": "python",
   "nbconvert_exporter": "python",
   "pygments_lexer": "ipython3",
   "version": "3.6.6"
  }
 },
 "nbformat": 4,
 "nbformat_minor": 2
}
